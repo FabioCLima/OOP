{
 "cells": [
  {
   "cell_type": "code",
   "execution_count": 1,
   "metadata": {},
   "outputs": [],
   "source": [
    "class Cat:\n",
    "    \n",
    "    \"\"\"A simple attempt to model a cat.\"\"\"\n",
    "\n",
    "    def __init__(self, name: str, age: int) -> None:\n",
    "        \"\"\"\n",
    "            Initialize name and age attributes.\n",
    "\n",
    "            Args:\n",
    "            name (str): Name given to a cat's.\n",
    "            age (int): Age of the cat's.\n",
    "        \"\"\"\n",
    "        self.name = name\n",
    "        self.age = age\n",
    "    \n",
    "    def sit(self):\n",
    "        \"\"\"\n",
    "        Simulate a cat sitting in response to a call .\n",
    "        \"\"\"\n",
    "        print(f\"{self.name} is now sitting.\")\n",
    "    \n",
    "    def eat_food(self):\n",
    "        \"\"\"\n",
    "        Simulate eating its food eat day. \n",
    "        \"\"\"\n",
    "        print(f\"{self.name} is eating its morning food!\")"
   ]
  },
  {
   "cell_type": "code",
   "execution_count": 2,
   "metadata": {},
   "outputs": [
    {
     "name": "stdout",
     "output_type": "stream",
     "text": [
      "My cat's name is Pacha and its age is 4 years old\n"
     ]
    }
   ],
   "source": [
    "my_cat = Cat('Pacha', 4)\n",
    "print(f\"My cat's name is {my_cat.name} and its age is {my_cat.age} years old\")"
   ]
  },
  {
   "cell_type": "code",
   "execution_count": 3,
   "metadata": {},
   "outputs": [
    {
     "name": "stdout",
     "output_type": "stream",
     "text": [
      "I have a missing cat, its name is Luna and it has 3 years old.\n"
     ]
    }
   ],
   "source": [
    "my_cat_luna = Cat('Luna', 3)\n",
    "print(f\"I have a missing cat, its name is {my_cat_luna.name} and it has {my_cat_luna.age} years old.\")"
   ]
  },
  {
   "cell_type": "code",
   "execution_count": 4,
   "metadata": {},
   "outputs": [
    {
     "name": "stdout",
     "output_type": "stream",
     "text": [
      "Pacha is eating its morning food!\n",
      "None\n"
     ]
    }
   ],
   "source": [
    "print(my_cat.eat_food())"
   ]
  },
  {
   "cell_type": "code",
   "execution_count": 5,
   "metadata": {},
   "outputs": [
    {
     "name": "stdout",
     "output_type": "stream",
     "text": [
      "Pacha is eating its morning food!\n"
     ]
    }
   ],
   "source": [
    "my_cat.eat_food()"
   ]
  },
  {
   "cell_type": "code",
   "execution_count": 6,
   "metadata": {},
   "outputs": [],
   "source": [
    "class Restaurant:\n",
    "    \"\"\"A class representing a restaurant.\"\"\"\n",
    "\n",
    "    def __init__(self, restaurant_name: str, cuisine_type: str) -> None:\n",
    "        \"\"\"Initialize the restaurant name and cuisine type attributes.\"\"\"\n",
    "        self.restaurant_name = restaurant_name\n",
    "        self.cuisine_type = cuisine_type\n",
    "\n",
    "    def describe_restaurant(self):\n",
    "        \"\"\"Display a summary of the restaurant.\"\"\"\n",
    "        print(f\"{self.restaurant_name} serves wonderful {self.cuisine_type} cuisine.\")\n",
    "\n",
    "    def open_restaurant(self):\n",
    "        \"\"\"Indicate that the restaurant is open.\"\"\"\n",
    "        print(f\"{self.restaurant_name} is now open!\")"
   ]
  },
  {
   "cell_type": "markdown",
   "metadata": {},
   "source": [
    "### Make an instance called restaurant from your class. Print the two attributes individually, and then call both methods"
   ]
  },
  {
   "cell_type": "code",
   "execution_count": 7,
   "metadata": {},
   "outputs": [
    {
     "name": "stdout",
     "output_type": "stream",
     "text": [
      "Restaurant Name: The Italian Kitchen\n",
      "Cuisine Type: Italian\n",
      "The Italian Kitchen serves wonderful Italian cuisine.\n",
      "The Italian Kitchen is now open!\n"
     ]
    }
   ],
   "source": [
    "# Creating an instance of the Restaurant class\n",
    "restaurant = Restaurant('The Italian Kitchen', 'Italian')\n",
    "\n",
    "# Printing the attributes\n",
    "print(f\"Restaurant Name: {restaurant.restaurant_name}\")\n",
    "print(f\"Cuisine Type: {restaurant.cuisine_type}\")\n",
    "\n",
    "# Calling the methods\n",
    "restaurant.describe_restaurant()\n",
    "restaurant.open_restaurant()"
   ]
  },
  {
   "cell_type": "code",
   "execution_count": 24,
   "metadata": {},
   "outputs": [],
   "source": [
    "class User:\n",
    "    \n",
    "    def __init__(self, first_name: str, last_name: str) -> None:\n",
    "        self.first_name = first_name\n",
    "        self.last_name = last_name\n",
    "    \n",
    "    def describe_user(self) -> None:\n",
    "        print(f\"User: first name={self.first_name}, last name={self.last_name}\")"
   ]
  },
  {
   "cell_type": "code",
   "execution_count": 25,
   "metadata": {},
   "outputs": [
    {
     "name": "stdout",
     "output_type": "stream",
     "text": [
      "User: first name=Fabio, last name=Lima\n"
     ]
    }
   ],
   "source": [
    "fabio_lima = User('Fabio', 'Lima')\n",
    "fabio_lima.describe_user()"
   ]
  },
  {
   "cell_type": "code",
   "execution_count": 26,
   "metadata": {},
   "outputs": [
    {
     "name": "stdout",
     "output_type": "stream",
     "text": [
      "[1, 2, 3]\n",
      "[4, 5, 6]\n",
      "[7, 8, 9]\n"
     ]
    }
   ],
   "source": [
    "nested_list = [[1, 2, 3], [4, 5, 6], [7, 8, 9]]\n",
    "\n",
    "for sublist in nested_list:\n",
    "    print(sublist)"
   ]
  },
  {
   "cell_type": "code",
   "execution_count": 28,
   "metadata": {},
   "outputs": [
    {
     "name": "stdout",
     "output_type": "stream",
     "text": [
      "sublist index=0, sublist content=[1, 2, 3],\n",
      "sublist index=1, sublist content=[4, 5, 6],\n",
      "sublist index=2, sublist content=[7, 8, 9],\n"
     ]
    }
   ],
   "source": [
    "for index, sublist in enumerate(nested_list):\n",
    "    print(f\"sublist index={index}, sublist content={sublist},\")"
   ]
  },
  {
   "cell_type": "code",
   "execution_count": 29,
   "metadata": {},
   "outputs": [
    {
     "name": "stdout",
     "output_type": "stream",
     "text": [
      "[0, 2, 6]\n",
      "[4, 5, 6]\n",
      "[0, 8, 18]\n"
     ]
    }
   ],
   "source": [
    "# Define the matrix\n",
    "matrix = [\n",
    "    [1, 2, 3],\n",
    "    [4, 5, 6],\n",
    "    [7, 8, 9]\n",
    "]\n",
    "\n",
    "# Iterate over the matrix with row index and row itself\n",
    "for row_index, row in enumerate(matrix):\n",
    "    # Iterate over each element in the row with its column index\n",
    "    for col_index, element in enumerate(row):\n",
    "        # Check if the row index is even\n",
    "        if row_index % 2 == 0:\n",
    "            # Multiply element by its column index\n",
    "            matrix[row_index][col_index] = element * col_index\n",
    "        else:\n",
    "            # Multiply element by its row index\n",
    "            matrix[row_index][col_index] = element * row_index\n",
    "\n",
    "# Print the modified matrix\n",
    "for row in matrix:\n",
    "    print(row)\n"
   ]
  },
  {
   "cell_type": "code",
   "execution_count": 32,
   "metadata": {},
   "outputs": [
    {
     "name": "stdout",
     "output_type": "stream",
     "text": [
      "i=0, lista interna=[1, 2, 3]\n",
      "i=0, elemento interno da lista interna=1\n",
      "i=1, elemento interno da lista interna=2\n",
      "i=2, elemento interno da lista interna=3\n",
      "\n",
      "i=1, lista interna=[4, 5, 6]\n",
      "i=0, elemento interno da lista interna=4\n",
      "i=1, elemento interno da lista interna=5\n",
      "i=2, elemento interno da lista interna=6\n",
      "\n",
      "i=2, lista interna=[7, 8, 9]\n",
      "i=0, elemento interno da lista interna=7\n",
      "i=1, elemento interno da lista interna=8\n",
      "i=2, elemento interno da lista interna=9\n",
      "\n"
     ]
    }
   ],
   "source": [
    "# Define the matrix\n",
    "matrix = [\n",
    "    [1, 2, 3],\n",
    "    [4, 5, 6],\n",
    "    [7, 8, 9]\n",
    "]\n",
    "\n",
    "for index_linha, inner_list in enumerate(matrix):\n",
    "    print(f\"i={index_linha}, lista interna={inner_list}\")\n",
    "    # itera sobre cada elemento da linha com seu próprio indice de coluna\n",
    "    for inner_list_element_index, inner_list_element in enumerate(inner_list):\n",
    "        print(f\"i={inner_list_element_index}, elemento interno da lista interna={inner_list_element}\")\n",
    "    print()"
   ]
  },
  {
   "cell_type": "code",
   "execution_count": 16,
   "metadata": {},
   "outputs": [],
   "source": [
    "class Circle:\n",
    "    def __init__(self, radius: float):\n",
    "        self._radius = radius\n",
    "\n",
    "    @property\n",
    "    def radius(self) -> float:\n",
    "        \"\"\"Get the radius of the circle.\"\"\"\n",
    "        return self._radius\n",
    "\n",
    "    @radius.setter\n",
    "    def radius(self, value: float) -> None:\n",
    "        \"\"\"Set the radius of the circle. Must be positive.\"\"\"\n",
    "        if value >= 0:\n",
    "            self._radius = value\n",
    "        else:\n",
    "            raise ValueError(\"Radius must be positive\")\n",
    "\n",
    "    @property\n",
    "    def diameter(self) -> float:\n",
    "        \"\"\"Get the diameter of the circle.\"\"\"\n",
    "        return self._radius * 2\n",
    "\n",
    "    @radius.deleter\n",
    "    def radius(self) -> None:\n",
    "        \"\"\"Delete the radius of the circle.\"\"\"\n",
    "        print(\"deleted\")\n",
    "        del self._radius"
   ]
  },
  {
   "cell_type": "markdown",
   "metadata": {},
   "source": [
    "This code defines a `Circle` class that represents a circle with a given radius. Let's break down each part:\n",
    "\n",
    "1. **`__init__` method**: This is the constructor method that initializes a new instance of the `Circle` class with a specified radius. It takes one parameter `radius` of type `float` and assigns it to the instance variable `_radius`.\n",
    "\n",
    "2. **`@property` decorator with `radius` method**: This creates a property called `radius`, which allows us to access the `_radius` attribute as if it were a regular attribute. The `@property` decorator makes the `radius` method act as a getter method for the `_radius` attribute. It returns the current value of the radius.\n",
    "\n",
    "3. **`@radius.setter` decorator with `radius` method**: This defines a setter method for the `radius` property. It allows us to set the value of the `_radius` attribute using the `=` operator. The method checks if the provided value is non-negative (i.e., greater than or equal to 0). If it is, it sets the `_radius` attribute to the new value; otherwise, it raises a `ValueError` with the message \"Radius must be positive\".\n",
    "\n",
    "4. **`@property` decorator with `diameter` method**: This creates a property called `diameter`, which returns the diameter of the circle. The diameter is calculated as twice the value of the `_radius` attribute.\n",
    "\n",
    "5. **`@radius.deleter` decorator with `radius` method**: This defines a deleter method for the `radius` property. It allows us to delete the `radius` property using the `del` statement. When the `radius` property is deleted, it prints \"deleted\" and deletes the `_radius` attribute from the instance.\n",
    "\n",
    "Overall, this code implements a `Circle` class with properties for getting, setting, and deleting the radius of the circle, as well as a property for calculating the diameter. The use of properties allows for controlled access to the `radius` attribute and ensures that the radius remains non-negative."
   ]
  },
  {
   "cell_type": "code",
   "execution_count": 17,
   "metadata": {},
   "outputs": [
    {
     "name": "stdout",
     "output_type": "stream",
     "text": [
      "5\n"
     ]
    }
   ],
   "source": [
    "c = Circle(5)\n",
    "print(c.radius)"
   ]
  },
  {
   "cell_type": "code",
   "execution_count": 18,
   "metadata": {},
   "outputs": [
    {
     "name": "stdout",
     "output_type": "stream",
     "text": [
      "10\n"
     ]
    }
   ],
   "source": [
    "print(c.diameter)"
   ]
  },
  {
   "cell_type": "code",
   "execution_count": 19,
   "metadata": {},
   "outputs": [
    {
     "data": {
      "text/plain": [
       "5"
      ]
     },
     "execution_count": 19,
     "metadata": {},
     "output_type": "execute_result"
    }
   ],
   "source": [
    "c.radius"
   ]
  },
  {
   "cell_type": "code",
   "execution_count": 20,
   "metadata": {},
   "outputs": [
    {
     "ename": "ValueError",
     "evalue": "Radius must be positive",
     "output_type": "error",
     "traceback": [
      "\u001b[0;31m---------------------------------------------------------------------------\u001b[0m",
      "\u001b[0;31mValueError\u001b[0m                                Traceback (most recent call last)",
      "Cell \u001b[0;32mIn[20], line 1\u001b[0m\n\u001b[0;32m----> 1\u001b[0m \u001b[43mc\u001b[49m\u001b[38;5;241;43m.\u001b[39;49m\u001b[43mradius\u001b[49m \u001b[38;5;241m=\u001b[39m \u001b[38;5;241m-\u001b[39m\u001b[38;5;241m5\u001b[39m\n",
      "Cell \u001b[0;32mIn[16], line 16\u001b[0m, in \u001b[0;36mCircle.radius\u001b[0;34m(self, value)\u001b[0m\n\u001b[1;32m     14\u001b[0m     \u001b[38;5;28mself\u001b[39m\u001b[38;5;241m.\u001b[39m_radius \u001b[38;5;241m=\u001b[39m value\n\u001b[1;32m     15\u001b[0m \u001b[38;5;28;01melse\u001b[39;00m:\n\u001b[0;32m---> 16\u001b[0m     \u001b[38;5;28;01mraise\u001b[39;00m \u001b[38;5;167;01mValueError\u001b[39;00m(\u001b[38;5;124m\"\u001b[39m\u001b[38;5;124mRadius must be positive\u001b[39m\u001b[38;5;124m\"\u001b[39m)\n",
      "\u001b[0;31mValueError\u001b[0m: Radius must be positive"
     ]
    }
   ],
   "source": [
    "c.radius = -5"
   ]
  },
  {
   "cell_type": "code",
   "execution_count": 21,
   "metadata": {},
   "outputs": [
    {
     "name": "stdout",
     "output_type": "stream",
     "text": [
      "deleted\n"
     ]
    }
   ],
   "source": [
    "c2 = Circle(10)\n",
    "del c.radius"
   ]
  },
  {
   "cell_type": "code",
   "execution_count": null,
   "metadata": {},
   "outputs": [],
   "source": []
  }
 ],
 "metadata": {
  "kernelspec": {
   "display_name": "venv",
   "language": "python",
   "name": "python3"
  },
  "language_info": {
   "codemirror_mode": {
    "name": "ipython",
    "version": 3
   },
   "file_extension": ".py",
   "mimetype": "text/x-python",
   "name": "python",
   "nbconvert_exporter": "python",
   "pygments_lexer": "ipython3",
   "version": "3.10.12"
  }
 },
 "nbformat": 4,
 "nbformat_minor": 2
}
