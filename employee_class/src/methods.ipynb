{
 "cells": [
  {
   "cell_type": "code",
   "execution_count": null,
   "metadata": {},
   "outputs": [],
   "source": [
    "class Employee:\n",
    "    # class method\n",
    "    _id_counter = 1 \n",
    "\n",
    "    def __init__(self, name):\n",
    "        self.name = name\n",
    "        self.id = Employee._id_counter\n",
    "        Employee._id_counter += 1\n",
    "        \n",
    "    def __str__(self):\n",
    "        return f\"Employee's name:{self.name}, and the ID is {self.id}\"\n",
    "\n",
    "    @classmethod\n",
    "    def get_next_id(cls) -> int:\n",
    "        return cls._id_counter\n",
    "    \n",
    "    @classmethod\n",
    "    def num_employees(cls) -> int:\n",
    "        return cls._id_counter - 1\n",
    "        \n",
    "    \n",
    "    "
   ]
  },
  {
   "cell_type": "code",
   "execution_count": null,
   "metadata": {},
   "outputs": [],
   "source": [
    "print(f\"Next ID for the new employee is: {Employee.get_next_id()}\")"
   ]
  },
  {
   "cell_type": "code",
   "execution_count": null,
   "metadata": {},
   "outputs": [],
   "source": [
    "employee1 = Employee(\"Fabiana Oliveira\")\n",
    "print(employee1)"
   ]
  },
  {
   "cell_type": "code",
   "execution_count": null,
   "metadata": {},
   "outputs": [],
   "source": [
    "employee = Employee(\"Fabio Lima\")\n",
    "print(employee.id)"
   ]
  },
  {
   "attachments": {},
   "cell_type": "markdown",
   "metadata": {},
   "source": [
    "### Factory method\n",
    "#### @classmethod\n",
    "\n",
    "Which is a method that creates and returns an instance of the class."
   ]
  },
  {
   "cell_type": "code",
   "execution_count": 1,
   "metadata": {},
   "outputs": [],
   "source": [
    "class MyClass:\n",
    "    \n",
    "    def __init__(self, arg1, arg2) -> None:\n",
    "        self.arg1 = arg1\n",
    "        self.arg2 = arg2\n",
    "        \n",
    "    @classmethod\n",
    "    def from_string(cls, string):\n",
    "        \"\"\"\n",
    "        The classmethod decorator is used to create a factory method that takes a single argument 'string'\n",
    "        and uses a split method to split the input string in two parts and then creates and returns a new \n",
    "        instance of MyClass\n",
    "        Args:\n",
    "            string (str): any single string\n",
    "\n",
    "        Returns:\n",
    "            str: a new instance of the MyClass\n",
    "        \"\"\"\n",
    "        arg1, arg2 = string.split('-')\n",
    "        return cls(arg1, arg2)"
   ]
  },
  {
   "cell_type": "code",
   "execution_count": 2,
   "metadata": {},
   "outputs": [
    {
     "name": "stdout",
     "output_type": "stream",
     "text": [
      "Hello\n",
      "World\n"
     ]
    }
   ],
   "source": [
    "my_instance = MyClass.from_string(\"Hello-World\")\n",
    "print(my_instance.arg1)\n",
    "print(my_instance.arg2)"
   ]
  },
  {
   "cell_type": "code",
   "execution_count": 3,
   "metadata": {},
   "outputs": [],
   "source": [
    "# Mantendo estados dentro da classe\n",
    "\n",
    "class Camera:\n",
    "    def __init__(self, name, filmando = False) -> None:\n",
    "        self.name: str = name\n",
    "        self.filmando = filmando\n",
    "        \n",
    "    def __str__(self) -> str:\n",
    "        return f\"The camera {self.name} is {self.filmando}\"\n",
    "    \n",
    "    def filmar(self):\n",
    "        if self.filmando:\n",
    "            print(f\"{self.name} já está filmando ...\")\n",
    "            return\n",
    "        \n",
    "        print(f\"{self.name} está filmando...\")\n",
    "        self.filmando = True"
   ]
  },
  {
   "cell_type": "code",
   "execution_count": 4,
   "metadata": {},
   "outputs": [
    {
     "name": "stdout",
     "output_type": "stream",
     "text": [
      "False\n",
      "False\n",
      "Canon está filmando...\n",
      "True\n",
      "Canon já está filmando ...\n"
     ]
    }
   ],
   "source": [
    "c1 = Camera('Canon')\n",
    "print(c1.filmando)\n",
    "c2 = Camera('Sony')\n",
    "print(c2.filmando)\n",
    "c1.filmar()\n",
    "print(c1.filmando)\n",
    "c1.filmar()"
   ]
  },
  {
   "cell_type": "code",
   "execution_count": 5,
   "metadata": {},
   "outputs": [],
   "source": [
    "class Supermarket:\n",
    "    \n",
    "    product = \"Milk\" # class attribute\n",
    "    \n",
    "    def __init__(self, product, best_before):\n",
    "        self.best_before = best_before\n",
    "        self.product = product\n",
    "        \n",
    "    @staticmethod\n",
    "    def normalize_product_name(product):\n",
    "        product = product.capitalize().strip()\n",
    "        return product"
   ]
  },
  {
   "attachments": {},
   "cell_type": "markdown",
   "metadata": {},
   "source": [
    "### The static method can be called using the \n",
    "\n",
    "ClassName.MethodName()  or object.MethodName()\n"
   ]
  },
  {
   "cell_type": "code",
   "execution_count": 6,
   "metadata": {},
   "outputs": [
    {
     "name": "stdout",
     "output_type": "stream",
     "text": [
      "cleaner\n"
     ]
    }
   ],
   "source": [
    "norm_product = Supermarket.normalize_product_name(\" cleaner   \")\n",
    "print(norm_product)"
   ]
  },
  {
   "cell_type": "code",
   "execution_count": 7,
   "metadata": {},
   "outputs": [
    {
     "data": {
      "text/plain": [
       "'Butter'"
      ]
     },
     "execution_count": 7,
     "metadata": {},
     "output_type": "execute_result"
    }
   ],
   "source": [
    "obj = Supermarket('bread', '2023-05-01')\n",
    "obj.normalize_product_name('butter   ')"
   ]
  },
  {
   "cell_type": "code",
   "execution_count": 8,
   "metadata": {},
   "outputs": [
    {
     "name": "stdout",
     "output_type": "stream",
     "text": [
      "8\n"
     ]
    }
   ],
   "source": [
    "class Calculator:\n",
    "    @staticmethod\n",
    "    def add(x, y):\n",
    "        \"\"\"\n",
    "        This static method adds two numbers x and y and returns the result.\n",
    "        \"\"\"\n",
    "        return x + y\n",
    "\n",
    "# calling the static method without creating an instance of the class\n",
    "print(Calculator.add(5, 3))  # output: 8\n"
   ]
  },
  {
   "cell_type": "code",
   "execution_count": 2,
   "metadata": {},
   "outputs": [
    {
     "name": "stdout",
     "output_type": "stream",
     "text": [
      "1\n",
      "2\n",
      "3\n",
      "4\n",
      "5\n"
     ]
    }
   ],
   "source": [
    "current_number = 1\n",
    "\n",
    "while current_number <= 5:\n",
    "    print(current_number)\n",
    "    current_number += 1"
   ]
  },
  {
   "cell_type": "code",
   "execution_count": 3,
   "metadata": {},
   "outputs": [
    {
     "name": "stdout",
     "output_type": "stream",
     "text": [
      "Bom dia, Fabio Lima\n",
      "what can I do for you ???\n",
      "what time is it ?\n",
      "04:36 am\n",
      "quit\n"
     ]
    }
   ],
   "source": [
    "prompt = \"\\nTell me something, and I will repeat it back to you: \"\n",
    "prompt += \"\\nEnter 'quit' to end the program\"\n",
    "\n",
    "message = \"\"\n",
    "while message != 'quit':\n",
    "    message = input(prompt)\n",
    "    \n",
    "    if message != 'quit':\n",
    "        print(message)\n",
    "        "
   ]
  }
 ],
 "metadata": {
  "kernelspec": {
   "display_name": "venv",
   "language": "python",
   "name": "python3"
  },
  "language_info": {
   "codemirror_mode": {
    "name": "ipython",
    "version": 3
   },
   "file_extension": ".py",
   "mimetype": "text/x-python",
   "name": "python",
   "nbconvert_exporter": "python",
   "pygments_lexer": "ipython3",
   "version": "3.10.6"
  },
  "orig_nbformat": 4
 },
 "nbformat": 4,
 "nbformat_minor": 2
}
